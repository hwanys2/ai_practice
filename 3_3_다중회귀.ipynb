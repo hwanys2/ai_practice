{
  "nbformat": 4,
  "nbformat_minor": 0,
  "metadata": {
    "colab": {
      "name": "3-3 다중회귀.ipynb",
      "private_outputs": true,
      "provenance": [],
      "authorship_tag": "ABX9TyO3sAh66p3DHF35vpOi1erI",
      "include_colab_link": true
    },
    "kernelspec": {
      "name": "python3",
      "display_name": "Python 3"
    },
    "language_info": {
      "name": "python"
    }
  },
  "cells": [
    {
      "cell_type": "markdown",
      "metadata": {
        "id": "view-in-github",
        "colab_type": "text"
      },
      "source": [
        "<a href=\"https://colab.research.google.com/github/hwanys2/ai_practice/blob/main/3_3_%EB%8B%A4%EC%A4%91%ED%9A%8C%EA%B7%80.ipynb\" target=\"_parent\"><img src=\"https://colab.research.google.com/assets/colab-badge.svg\" alt=\"Open In Colab\"/></a>"
      ]
    },
    {
      "cell_type": "code",
      "execution_count": null,
      "metadata": {
        "id": "OgyR1JF_qBH7"
      },
      "outputs": [],
      "source": [
        "print('git hub upload')\n",
        "gggg"
      ]
    }
  ]
}