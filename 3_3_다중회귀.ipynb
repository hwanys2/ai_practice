{
  "nbformat": 4,
  "nbformat_minor": 0,
  "metadata": {
    "colab": {
      "name": "3-3 다중회귀.ipynb",
      "private_outputs": true,
      "provenance": [],
      "authorship_tag": "ABX9TyN2Svw3RGtt1CRueQONoyxc",
      "include_colab_link": true
    },
    "kernelspec": {
      "name": "python3",
      "display_name": "Python 3"
    },
    "language_info": {
      "name": "python"
    }
  },
  "cells": [
    {
      "cell_type": "markdown",
      "metadata": {
        "id": "view-in-github",
        "colab_type": "text"
      },
      "source": [
        "<a href=\"https://colab.research.google.com/github/hwanys2/ai_practice/blob/main/3_3_%EB%8B%A4%EC%A4%91%ED%9A%8C%EA%B7%80.ipynb\" target=\"_parent\"><img src=\"https://colab.research.google.com/assets/colab-badge.svg\" alt=\"Open In Colab\"/></a>"
      ]
    },
    {
      "cell_type": "markdown",
      "source": [
        "# 다중 회귀 및 규제 \n",
        "여러 개의 특성을 사용한 선형 회귀를 **다중 회귀**라고 합니다.\n",
        "여러 개읱 특성을 그대로 사용하는 거이 아니라 각 특성의 곱을 이용하여 새로운 특성들을 만들어 사용합니다. 이런 작업을 **특성공학**이라고 부릅니다.  \n",
        "<br>\n",
        "농어 길이의 세가지 특성 정보를 가지고 오겠습니다.  \n",
        "pandas를 이용하여 dataframe으로 만들고, 이를 넘파이 배여롤 바꾸어 출력해보겠습니다.\n"
      ],
      "metadata": {
        "id": "PDoIRbyUr_P8"
      }
    },
    {
      "cell_type": "code",
      "execution_count": null,
      "metadata": {
        "id": "OgyR1JF_qBH7"
      },
      "outputs": [],
      "source": [
        "import pandas as pd # pd는 관례적으로 사용하는 판다스의 별칭입니다\n",
        "df = pd.read_csv('https://bit.ly/perch_csv_data')\n",
        "perch_full = df.to_numpy()\n",
        "print(perch_full)"
      ]
    },
    {
      "cell_type": "markdown",
      "source": [
        "위 자료에 해당하는 무게 정보를 입력하겠습니다. 즉, 정답을 주는 일입니다."
      ],
      "metadata": {
        "id": "GDCdSyCNtD5-"
      }
    },
    {
      "cell_type": "code",
      "source": [
        "import numpy as np\n",
        "perch_weight = np.array(\n",
        " [ 5.9, 32.0, 40.0, 51.5, 70.0, 100.0, 78.0, 80.0, 85.0, 85.0, \n",
        " 110.0, 115.0, 125.0, 130.0, 120.0, 120.0, 130.0, 135.0, 110.0, \n",
        " 130.0, 150.0, 145.0, 150.0, 170.0, 225.0, 145.0, 188.0, 180.0, \n",
        " 197.0, 218.0, 300.0, 260.0, 265.0, 250.0, 250.0, 300.0, 320.0, \n",
        " 514.0, 556.0, 840.0, 685.0, 700.0, 700.0, 690.0, 900.0, 650.0, \n",
        " 820.0, 850.0, 900.0, 1015.0, 820.0, 1100.0, 1000.0, 1100.0, \n",
        " 1000.0, 1000.0]\n",
        " )"
      ],
      "metadata": {
        "id": "rrPMoVLYqzD-"
      },
      "execution_count": null,
      "outputs": []
    },
    {
      "cell_type": "markdown",
      "source": [
        "이제 훈련데이터와 테스트데이터로 나누겠습니다. sklarn의 train_test_split 를 이용합니다."
      ],
      "metadata": {
        "id": "rEaIC_NGtWDa"
      }
    },
    {
      "cell_type": "code",
      "source": [
        "from sklearn.model_selection import train_test_split\n",
        "train_input, test_input, train_target, test_target = train_test_split(perch_full, perch_weight, random_state=42)"
      ],
      "metadata": {
        "id": "W9zPso68q9dD"
      },
      "execution_count": null,
      "outputs": []
    },
    {
      "cell_type": "markdown",
      "source": [
        "계속 진행하기에 앞서 특성공학 작업을 진행해주는 라이브러리에 대해 알아보겠습니다.  \n",
        "poly = PolynomialFeatures() 로 객체를 생성합니다. 이때 기본적으로 degree=2 입니다.  \n",
        "이경우 아래와 같은 결과를 얻을 수 있습니다.\n",
        "x, y인 자료를 2차원의 특성공학을 진행하면  \n",
        "1, $x$, $y$, $x^2$, $xy$, $y^2$  \n",
        "의 값을 얻게 되어 다음과 같이 출력됩니다.  \n",
        "차원을 늘리면 최고차항이 커지며 더 많은 특성들을 생성하게 됩니다.\n",
        "각 값의 의미를 알기 위해서는 다음과 같은 명령어로 가능합니다.\n",
        "\n",
        "\n",
        "```\n",
        "poly.get_feature_names()\n",
        "```\n",
        "\n"
      ],
      "metadata": {
        "id": "aTLLJlQotghz"
      }
    },
    {
      "cell_type": "code",
      "source": [
        "from sklearn.preprocessing import PolynomialFeatures\n",
        "poly = PolynomialFeatures()\n",
        "poly.fit([[2, 3]])\n",
        "print(poly.transform([[2, 3]]))\n",
        "print(poly.get_feature_names())"
      ],
      "metadata": {
        "id": "aJmQ6tUgrH4x"
      },
      "execution_count": null,
      "outputs": []
    },
    {
      "cell_type": "markdown",
      "source": [
        "예를 들어 차원을 5라고하면 다음과 같이 특성들을 만들어 내게 됩니다.  \n",
        "또한 include_bias=False 를 추가하면 기본 1은 제거해 줍니다.  \n"
      ],
      "metadata": {
        "id": "s5S5EhjgvuvF"
      }
    },
    {
      "cell_type": "code",
      "source": [
        "poly = PolynomialFeatures(degree=5, include_bias=False)\n",
        "poly.fit(train_input)\n",
        "poly.fit([[2, 3]])\n",
        "print(poly.transform([[2, 3]]))\n",
        "print(poly.get_feature_names())"
      ],
      "metadata": {
        "id": "n-U2d31urX8O"
      },
      "execution_count": null,
      "outputs": []
    },
    {
      "cell_type": "markdown",
      "source": [
        "## 데이터 특성 변환 하기\n",
        "이제 훈련데이터와 테스트 데이터를 직접 넣어 2차원 특성들을 만들고 선형회귀 모델을 만들어보겠습니다."
      ],
      "metadata": {
        "id": "hnrtAqfbxKaj"
      }
    },
    {
      "cell_type": "code",
      "source": [
        "poly = PolynomialFeatures(include_bias=False)\n",
        "poly.fit(train_input)\n",
        "train_poly = poly.transform(train_input)    # 훈련 데이터 변환\n",
        "test_poly = poly.transform(test_input)      # 테스트 데이터 변환\n",
        "print(train_poly.shape)"
      ],
      "metadata": {
        "id": "wpptBc7trkW6"
      },
      "execution_count": null,
      "outputs": []
    },
    {
      "cell_type": "markdown",
      "source": [
        "## 다중회귀 모델 훈련시키기\n",
        "위의 결과를 보면 농어가 가지는 3가지 특성의 곱을 통해 9가지 특성으로 늘인건을 확인할 수 있습니다.  \n",
        "이 자료를 skearn의 선형회귀 모델을 통해 훈련시키겠습니다."
      ],
      "metadata": {
        "id": "nMe-QYNIx2i6"
      }
    },
    {
      "cell_type": "code",
      "source": [
        "from sklearn.linear_model import LinearRegression\n",
        "lr = LinearRegression()\n",
        "lr.fit(train_poly, train_target)\n",
        "print('훈련데이터에 대한 정확도 점수는:',lr.score(train_poly, train_target))\n",
        "print('테스트데이터에 대한 정확도 점수는:',lr.score(test_poly, test_target))"
      ],
      "metadata": {
        "id": "1AQxZMJux_sa"
      },
      "execution_count": null,
      "outputs": []
    },
    {
      "cell_type": "markdown",
      "source": [
        "만족할 만한 점수가 나오는 것 같습니다.  \n",
        "만약 특성을 더 많이 추가하면 어떻게 될까요?  \n",
        "5제곱까지 넣어서 동일하게 진행해보겠습니다."
      ],
      "metadata": {
        "id": "xSZxnQuGy0-9"
      }
    },
    {
      "cell_type": "code",
      "source": [
        "poly = PolynomialFeatures(degree=5, include_bias=False)\n",
        "poly.fit(train_input)\n",
        "train_poly = poly.transform(train_input)    # 훈련 데이터 변환\n",
        "test_poly = poly.transform(test_input)      # 테스트 데이터 변환\n",
        "lr = LinearRegression()\n",
        "lr.fit(train_poly, train_target)\n",
        "print('훈련데이터에 대한 정확도 점수는:',lr.score(train_poly, train_target))\n",
        "print('테스트데이터에 대한 정확도 점수는:',lr.score(test_poly, test_target))"
      ],
      "metadata": {
        "id": "vcHwcxhPzI0n"
      },
      "execution_count": null,
      "outputs": []
    },
    {
      "cell_type": "markdown",
      "source": [
        "훈련 데이터는 완벽한 점수가 나오지만  \n",
        "테스트 데이터는 음수가 나오는 것을 확인할 수 있습니다.  \n",
        "현재 42개의 훈련데이터를 예측하기위해 데이터보다 더 많은 55개의 특성을 사용하게 되어 거의 100% 예측이 가능하게 된것입니다.  \n",
        "반면에 훈련세트에 과대적합되어 테스트 세트에서는 형편없는 점수를 만든 것입니다.  \n",
        "이러한 문제를 해결하기위해 **규제**가 필요합니다."
      ],
      "metadata": {
        "id": "_6DcaKVYzYWB"
      }
    },
    {
      "cell_type": "code",
      "source": [
        ""
      ],
      "metadata": {
        "id": "QLfldm6lzzzL"
      },
      "execution_count": null,
      "outputs": []
    }
  ]
}