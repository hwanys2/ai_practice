{
  "nbformat": 4,
  "nbformat_minor": 0,
  "metadata": {
    "colab": {
      "name": "6-3주성분분석.ipynb",
      "private_outputs": true,
      "provenance": [],
      "authorship_tag": "ABX9TyPl2er7LvHJukOuB+N8LKj2",
      "include_colab_link": true
    },
    "kernelspec": {
      "name": "python3",
      "display_name": "Python 3"
    },
    "language_info": {
      "name": "python"
    }
  },
  "cells": [
    {
      "cell_type": "markdown",
      "metadata": {
        "id": "view-in-github",
        "colab_type": "text"
      },
      "source": [
        "<a href=\"https://colab.research.google.com/github/hwanys2/ai_practice/blob/main/6_3%EC%A3%BC%EC%84%B1%EB%B6%84%EB%B6%84%EC%84%9D.ipynb\" target=\"_parent\"><img src=\"https://colab.research.google.com/assets/colab-badge.svg\" alt=\"Open In Colab\"/></a>"
      ]
    },
    {
      "cell_type": "code",
      "execution_count": null,
      "metadata": {
        "id": "T_q6GYhAhnPo"
      },
      "outputs": [],
      "source": [
        "!wget https://bit.ly/fruits_300_data -O fruits_300.npy\n",
        "import numpy as np\n",
        "fruits = np.load('fruits_300.npy')\n",
        "fruits_2d = fruits.reshape(-1, 100*100)"
      ]
    },
    {
      "cell_type": "markdown",
      "source": [
        "PCA 도구제공"
      ],
      "metadata": {
        "id": "dTNozxkAiea-"
      }
    },
    {
      "cell_type": "code",
      "source": [
        "from sklearn.decomposition import PCA\n",
        "pca = PCA(n_components=50)\n",
        "pca.fit(fruits_2d)"
      ],
      "metadata": {
        "id": "x9emXk-Khu9V"
      },
      "execution_count": null,
      "outputs": []
    },
    {
      "cell_type": "code",
      "source": [
        "print(pca.components_.shape)"
      ],
      "metadata": {
        "id": "Ii3nxP-yhxj8"
      },
      "execution_count": null,
      "outputs": []
    },
    {
      "cell_type": "code",
      "source": [
        "import matplotlib.pyplot as plt\n",
        "def draw_fruits(arr, ratio=1):\n",
        "    n = len(arr) # n은 샘플 개수입니다\n",
        "    # 한 줄에 10개씩 이미지를 그립니다. 샘플 개수를 10으로 나누어 전체 행 개수를 계산합니다\n",
        "    rows = int(np.ceil(n/10))\n",
        "    # 행이 1개이면 열의 개수는 샘플 개수입니다. 그렇지 않으면 10개입니다\n",
        "    cols = n if rows < 2 else 10\n",
        "    fig, axs = plt.subplots(rows, cols, figsize=(cols*ratio, rows*ratio), squeeze=False)\n",
        "    for i in range(rows):\n",
        "        for j in range(cols):\n",
        "            if i*10 + j < n: # n 개까지만 그립니다\n",
        "                axs[i, j].imshow(arr[i*10 + j], cmap='gray_r')\n",
        "                axs[i, j].axis('off')\n",
        "    plt.show()          "
      ],
      "metadata": {
        "id": "wQtF2VgKiIDf"
      },
      "execution_count": null,
      "outputs": []
    },
    {
      "cell_type": "code",
      "source": [
        "draw_fruits(pca.components_.reshape(-1, 100, 100))"
      ],
      "metadata": {
        "id": "yJtNRNV_h2e1"
      },
      "execution_count": null,
      "outputs": []
    },
    {
      "cell_type": "code",
      "source": [
        "print(fruits_2d.shape)"
      ],
      "metadata": {
        "id": "H2txRudoh_r0"
      },
      "execution_count": null,
      "outputs": []
    },
    {
      "cell_type": "code",
      "source": [
        "fruits_pca = pca.transform(fruits_2d)\n",
        "print(fruits_pca.shape)"
      ],
      "metadata": {
        "id": "SEsIRqanitb_"
      },
      "execution_count": null,
      "outputs": []
    },
    {
      "cell_type": "markdown",
      "source": [
        "원본데이터재구성"
      ],
      "metadata": {
        "id": "CS0gxBBziwoT"
      }
    },
    {
      "cell_type": "code",
      "source": [
        "fruits_inverse = pca.inverse_transform(fruits_pca)\n",
        "print(fruits_inverse.shape)"
      ],
      "metadata": {
        "id": "D8o-cNCHiu0Q"
      },
      "execution_count": null,
      "outputs": []
    },
    {
      "cell_type": "code",
      "source": [
        "fruits_reconstruct = fruits_inverse.reshape(-1, 100, 100)\n",
        "for start in [0, 100, 200]:\n",
        "    draw_fruits(fruits_reconstruct[start:start+100])\n",
        "    print(\"\\n\")"
      ],
      "metadata": {
        "id": "Jl8ROoQOizME"
      },
      "execution_count": null,
      "outputs": []
    },
    {
      "cell_type": "markdown",
      "source": [
        "설명된분산"
      ],
      "metadata": {
        "id": "KEhD7Wd4jDa-"
      }
    },
    {
      "cell_type": "code",
      "source": [
        "print(np.sum(pca.explained_variance_ratio_))"
      ],
      "metadata": {
        "id": "BmDuZkfLi38f"
      },
      "execution_count": null,
      "outputs": []
    },
    {
      "cell_type": "code",
      "source": [
        "plt.plot(pca.explained_variance_ratio_)\n",
        "plt.show()"
      ],
      "metadata": {
        "id": "NHcGOfFmi-KC"
      },
      "execution_count": null,
      "outputs": []
    },
    {
      "cell_type": "markdown",
      "source": [
        "로지스틱회귀와함께사용"
      ],
      "metadata": {
        "id": "-KDRHmTyjI1g"
      }
    },
    {
      "cell_type": "code",
      "source": [
        "from sklearn.linear_model import LogisticRegression\n",
        "lr = LogisticRegression()\n",
        "\n",
        "target = np.array([0]*100 + [1]*100 + [2]*100)"
      ],
      "metadata": {
        "id": "0cgApZqnjFuD"
      },
      "execution_count": null,
      "outputs": []
    },
    {
      "cell_type": "code",
      "source": [
        "from sklearn.model_selection import cross_validate\n",
        "scores = cross_validate(lr, fruits_2d, target)\n",
        "print(np.mean(scores['test_score']))\n",
        "print(np.mean(scores['fit_time']))"
      ],
      "metadata": {
        "id": "msQwmS7jjPLw"
      },
      "execution_count": null,
      "outputs": []
    },
    {
      "cell_type": "code",
      "source": [
        "scores = cross_validate(lr, fruits_pca, target)\n",
        "print(np.mean(scores['test_score']))\n",
        "print(np.mean(scores['fit_time']))"
      ],
      "metadata": {
        "id": "fYjxasyWjQ4X"
      },
      "execution_count": null,
      "outputs": []
    },
    {
      "cell_type": "markdown",
      "source": [
        "원하는주성분갯수찾기"
      ],
      "metadata": {
        "id": "OYVFHWsZje-B"
      }
    },
    {
      "cell_type": "code",
      "source": [
        "pca = PCA(n_components=0.5)  # 50%\n",
        "pca.fit(fruits_2d)\n",
        "print(pca.n_components_)"
      ],
      "metadata": {
        "id": "jny2olXmjWzp"
      },
      "execution_count": null,
      "outputs": []
    },
    {
      "cell_type": "code",
      "source": [
        "fruits_pca = pca.transform(fruits_2d)\n",
        "print(fruits_pca.shape)"
      ],
      "metadata": {
        "id": "TIk_6_8tjltA"
      },
      "execution_count": null,
      "outputs": []
    },
    {
      "cell_type": "code",
      "source": [
        "scores = cross_validate(lr, fruits_pca, target)\n",
        "print(np.mean(scores['test_score']))\n",
        "print(np.mean(scores['fit_time']))"
      ],
      "metadata": {
        "id": "6iR3VyT_j3jP"
      },
      "execution_count": null,
      "outputs": []
    },
    {
      "cell_type": "markdown",
      "source": [
        "K-means 클러스터링"
      ],
      "metadata": {
        "id": "Y8mqOPWrj96e"
      }
    },
    {
      "cell_type": "code",
      "source": [
        "from sklearn.cluster import KMeans\n",
        "km = KMeans(n_clusters=3, random_state=42)\n",
        "km.fit(fruits_pca)\n",
        "print(np.unique(km.labels_, return_counts=True))"
      ],
      "metadata": {
        "id": "zLhegkoqj5GG"
      },
      "execution_count": null,
      "outputs": []
    },
    {
      "cell_type": "code",
      "source": [
        "for label in range(0, 3):\n",
        "    draw_fruits(fruits[km.labels_ == label])\n",
        "    print(\"\\n\")"
      ],
      "metadata": {
        "id": "Pr6S_fOxkCbv"
      },
      "execution_count": null,
      "outputs": []
    },
    {
      "cell_type": "code",
      "source": [
        "for label in range(0, 3):\n",
        "    data = fruits_pca[km.labels_ == label]\n",
        "    plt.scatter(data[:,0], data[:,1])\n",
        "plt.legend(['apple', 'banana', 'pineapple'])\n",
        "plt.show()"
      ],
      "metadata": {
        "id": "S-eLfQvCkF-h"
      },
      "execution_count": null,
      "outputs": []
    },
    {
      "cell_type": "code",
      "source": [
        ""
      ],
      "metadata": {
        "id": "ZptbzBo1kNx0"
      },
      "execution_count": null,
      "outputs": []
    }
  ]
}