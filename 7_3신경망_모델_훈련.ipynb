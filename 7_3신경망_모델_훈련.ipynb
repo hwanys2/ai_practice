{
  "nbformat": 4,
  "nbformat_minor": 0,
  "metadata": {
    "colab": {
      "name": "7-3신경망 모델 훈련.ipynb",
      "provenance": [],
      "authorship_tag": "ABX9TyOTFHvpNDBk3w8Ilasuds1E",
      "include_colab_link": true
    },
    "kernelspec": {
      "name": "python3",
      "display_name": "Python 3"
    },
    "language_info": {
      "name": "python"
    },
    "accelerator": "GPU"
  },
  "cells": [
    {
      "cell_type": "markdown",
      "metadata": {
        "id": "view-in-github",
        "colab_type": "text"
      },
      "source": [
        "<a href=\"https://colab.research.google.com/github/hwanys2/ai_practice/blob/main/7_3%EC%8B%A0%EA%B2%BD%EB%A7%9D_%EB%AA%A8%EB%8D%B8_%ED%9B%88%EB%A0%A8.ipynb\" target=\"_parent\"><img src=\"https://colab.research.google.com/assets/colab-badge.svg\" alt=\"Open In Colab\"/></a>"
      ]
    },
    {
      "cell_type": "markdown",
      "source": [
        "#MNIST 데이터셋 불러오기"
      ],
      "metadata": {
        "id": "p_k_1QO0Vn2g"
      }
    },
    {
      "cell_type": "code",
      "source": [
        "from tensorflow import keras\n",
        "from sklearn.model_selection import train_test_split\n",
        "(train_input, train_target), (test_input, test_target) =\\\n",
        " keras.datasets.fashion_mnist.load_data()\n",
        "train_scaled = train_input / 255.0\n",
        "train_scaled, val_scaled, train_target, val_target = train_test_split(\n",
        " train_scaled, train_target, test_size=0.2, random_state=42)"
      ],
      "metadata": {
        "colab": {
          "base_uri": "https://localhost:8080/"
        },
        "id": "_ZRRb3PDVnRy",
        "outputId": "15bad173-a7d5-4a43-fdcb-4e308209c716"
      },
      "execution_count": 1,
      "outputs": [
        {
          "output_type": "stream",
          "name": "stdout",
          "text": [
            "Downloading data from https://storage.googleapis.com/tensorflow/tf-keras-datasets/train-labels-idx1-ubyte.gz\n",
            "32768/29515 [=================================] - 0s 0us/step\n",
            "40960/29515 [=========================================] - 0s 0us/step\n",
            "Downloading data from https://storage.googleapis.com/tensorflow/tf-keras-datasets/train-images-idx3-ubyte.gz\n",
            "26427392/26421880 [==============================] - 0s 0us/step\n",
            "26435584/26421880 [==============================] - 0s 0us/step\n",
            "Downloading data from https://storage.googleapis.com/tensorflow/tf-keras-datasets/t10k-labels-idx1-ubyte.gz\n",
            "16384/5148 [===============================================================================================] - 0s 0us/step\n",
            "Downloading data from https://storage.googleapis.com/tensorflow/tf-keras-datasets/t10k-images-idx3-ubyte.gz\n",
            "4423680/4422102 [==============================] - 0s 0us/step\n",
            "4431872/4422102 [==============================] - 0s 0us/step\n"
          ]
        }
      ]
    },
    {
      "cell_type": "markdown",
      "source": [
        "#모델 생성하기\n",
        "모델만드는 함수를 먼저 정의합니다."
      ],
      "metadata": {
        "id": "tpyhvg98VvGg"
      }
    },
    {
      "cell_type": "code",
      "execution_count": 2,
      "metadata": {
        "id": "VkNgzvbYVd0b"
      },
      "outputs": [],
      "source": [
        "def model_fn(a_layer=None):\n",
        "    model = keras.Sequential()\n",
        "    model.add(keras.layers.Flatten(input_shape=(28, 28)))\n",
        "    model.add(keras.layers.Dense(100, activation='relu'))\n",
        "    if a_layer:\n",
        "        model.add(a_layer)\n",
        "    model.add(keras.layers.Dense(10, activation='softmax'))\n",
        "    return model"
      ]
    },
    {
      "cell_type": "markdown",
      "source": [
        "input값을 줄경우만 추가로 층을 하나 더 만들고 함수만 바로 실행하면  \n",
        "flatten, dense, dence 의 층만 구성됨  \n",
        "실행해보면\n"
      ],
      "metadata": {
        "id": "lZv8T5ZwV-0m"
      }
    },
    {
      "cell_type": "code",
      "source": [
        "model = model_fn()\n",
        "model.summary()"
      ],
      "metadata": {
        "colab": {
          "base_uri": "https://localhost:8080/"
        },
        "id": "ZY4U6rr-V9Be",
        "outputId": "e5bedee6-5a6f-4f80-881b-4a40835c3da7"
      },
      "execution_count": 3,
      "outputs": [
        {
          "output_type": "stream",
          "name": "stdout",
          "text": [
            "Model: \"sequential\"\n",
            "_________________________________________________________________\n",
            " Layer (type)                Output Shape              Param #   \n",
            "=================================================================\n",
            " flatten (Flatten)           (None, 784)               0         \n",
            "                                                                 \n",
            " dense (Dense)               (None, 100)               78500     \n",
            "                                                                 \n",
            " dense_1 (Dense)             (None, 10)                1010      \n",
            "                                                                 \n",
            "=================================================================\n",
            "Total params: 79,510\n",
            "Trainable params: 79,510\n",
            "Non-trainable params: 0\n",
            "_________________________________________________________________\n"
          ]
        }
      ]
    },
    {
      "cell_type": "markdown",
      "source": [
        "위 자료를 fit한 것을 History 변수에 담아 살펴봅니다."
      ],
      "metadata": {
        "id": "-JenpCaLWaej"
      }
    },
    {
      "cell_type": "code",
      "source": [
        "model.compile(loss='sparse_categorical_crossentropy', metrics='accuracy')\n",
        "history = model.fit(train_scaled, train_target, epochs=5, verbose=0)   # verbose=0은 훈련 과정 출력하지 않음"
      ],
      "metadata": {
        "id": "Uu3MuT27WQqN"
      },
      "execution_count": 4,
      "outputs": []
    },
    {
      "cell_type": "markdown",
      "source": [
        "history에는 loss(손실), accuracy(정확도)가 포함되어 있습니다."
      ],
      "metadata": {
        "id": "gYneNEy-Wqsk"
      }
    },
    {
      "cell_type": "code",
      "source": [
        "print(history.history.keys())"
      ],
      "metadata": {
        "colab": {
          "base_uri": "https://localhost:8080/"
        },
        "id": "Gj0dk0c5WlPU",
        "outputId": "082c8c50-ee5e-45bb-8755-53097df7f1e1"
      },
      "execution_count": 6,
      "outputs": [
        {
          "output_type": "stream",
          "name": "stdout",
          "text": [
            "dict_keys(['loss', 'accuracy'])\n"
          ]
        },
        {
          "output_type": "execute_result",
          "data": {
            "text/plain": [
              "<keras.callbacks.History at 0x7fa1b005ce10>"
            ]
          },
          "metadata": {},
          "execution_count": 6
        }
      ]
    },
    {
      "cell_type": "markdown",
      "source": [
        "이를 그림으로 표현해보면"
      ],
      "metadata": {
        "id": "ts_0RGE9W5vK"
      }
    },
    {
      "cell_type": "code",
      "source": [
        "import matplotlib.pyplot as plt\n",
        "plt.plot(history.history['loss'])\n",
        "plt.plot(history.history['accuracy'])\n",
        "plt.xlabel('epoch')\n",
        "plt.ylabel('loss & accuracy')\n",
        "plt.show()"
      ],
      "metadata": {
        "colab": {
          "base_uri": "https://localhost:8080/",
          "height": 279
        },
        "id": "f_nytkbSWwvq",
        "outputId": "ca738c96-7bf4-4bf4-9abd-c0286cbf41f6"
      },
      "execution_count": 9,
      "outputs": [
        {
          "output_type": "display_data",
          "data": {
            "image/png": "[encoded data removed]",
            "text/plain": [
              "<Figure size 432x288 with 1 Axes>"
            ]
          },
          "metadata": {
            "needs_background": "light"
          }
        }
      ]
    },
    {
      "cell_type": "markdown",
      "source": [
        "epoch가 늘어날 수록 좋은 성능을 내는 것으로 보이는 횟수를 20으로 늘려 보겠습니다."
      ],
      "metadata": {
        "id": "GraSvNZPXSw7"
      }
    },
    {
      "cell_type": "code",
      "source": [
        "model = model_fn()\n",
        "model.compile(loss='sparse_categorical_crossentropy', metrics='accuracy')\n",
        "history = model.fit(train_scaled, train_target, epochs=20, verbose=0)\n",
        "plt.plot(history.history['loss'])\n",
        "plt.plot(history.history['accuracy'])\n",
        "plt.xlabel('epoch')\n",
        "plt.ylabel('loss & accuracy')\n",
        "plt.show()"
      ],
      "metadata": {
        "colab": {
          "base_uri": "https://localhost:8080/",
          "height": 279
        },
        "id": "fdBUXZ3LW-k0",
        "outputId": "efb90bf8-5ec4-40ec-adf3-6493f78092d9"
      },
      "execution_count": 10,
      "outputs": [
        {
          "output_type": "display_data",
          "data": {
            "image/png": "[encoded data removed]",
            "text/plain": [
              "<Figure size 432x288 with 1 Axes>"
            ]
          },
          "metadata": {
            "needs_background": "light"
          }
        }
      ]
    },
    {
      "cell_type": "markdown",
      "source": [
        "하지만 이것은 과대적합되는 걸 수 있습니다.  \n",
        "검증데이터도 함께 진행해 보겠습니다."
      ],
      "metadata": {
        "id": "W5cgnbHvXeAb"
      }
    },
    {
      "cell_type": "code",
      "source": [
        "model = model_fn()\n",
        "model.compile(loss='sparse_categorical_crossentropy', metrics='accuracy')\n",
        "history = model.fit(train_scaled, train_target, epochs=20, verbose=0, validation_data=(val_scaled, val_target))"
      ],
      "metadata": {
        "id": "Od26xSxaXa9N"
      },
      "execution_count": 11,
      "outputs": []
    },
    {
      "cell_type": "markdown",
      "source": [
        "그림으로 확인해보겠습니다. "
      ],
      "metadata": {
        "id": "CkhPx5TXXyVb"
      }
    },
    {
      "cell_type": "code",
      "source": [
        "plt.plot(history.history['loss'])\n",
        "plt.plot(history.history['val_loss'])\n",
        "plt.xlabel('epoch')\n",
        "plt.ylabel('loss')\n",
        "plt.legend(['train', 'val'])\n",
        "plt.show()"
      ],
      "metadata": {
        "colab": {
          "base_uri": "https://localhost:8080/",
          "height": 279
        },
        "id": "6m3vMlgRXq9W",
        "outputId": "a856a0fb-8028-4d95-981a-2dfd68b4a832"
      },
      "execution_count": 12,
      "outputs": [
        {
          "output_type": "display_data",
          "data": {
            "image/png": "[encoded data removed]",
            "text/plain": [
              "<Figure size 432x288 with 1 Axes>"
            ]
          },
          "metadata": {
            "needs_background": "light"
          }
        }
      ]
    },
    {
      "cell_type": "markdown",
      "source": [
        "이런 과대적합을 막는데 다른 옵티마이저를 선택해 볼 수 있습니다. Adam을 해보겠습니다."
      ],
      "metadata": {
        "id": "_CSZJ8XlX62k"
      }
    },
    {
      "cell_type": "code",
      "source": [
        "model = model_fn()\n",
        "model.compile(optimizer='adam', loss='sparse_categorical_crossentropy', metrics='accuracy')\n",
        "history = model.fit(train_scaled, train_target, epochs=20, verbose=0,validation_data=(val_scaled, val_target))\n",
        "plt.plot(history.history['loss'])\n",
        "plt.plot(history.history['val_loss'])\n",
        "plt.xlabel('epoch')\n",
        "plt.ylabel('loss')\n",
        "plt.legend(['train', 'val'])\n",
        "plt.show()"
      ],
      "metadata": {
        "colab": {
          "base_uri": "https://localhost:8080/",
          "height": 279
        },
        "id": "l6_pf93SXxZg",
        "outputId": "93d31e70-e605-4abb-a526-9527a8d55aa1"
      },
      "execution_count": 13,
      "outputs": [
        {
          "output_type": "display_data",
          "data": {
            "image/png": "[encoded data removed]",
            "text/plain": [
              "<Figure size 432x288 with 1 Axes>"
            ]
          },
          "metadata": {
            "needs_background": "light"
          }
        }
      ]
    },
    {
      "cell_type": "markdown",
      "source": [
        "# 드롭아웃\n",
        "과대적합을 막기 위해 훈련 과정에서 층에 있는 일부 뉴런을 랜덤하게 끄는(출력 값을 0 으로 만듦) 방법 입니다.  \n",
        "keras.layers에 Dropout 클래스가 제공됩니다. 특정 층 뒤에 이를 배치하면 작동합니다.  \n",
        "함수의 인수로 이 층을 집어넣어 만들어 보겠습니다."
      ],
      "metadata": {
        "id": "yp7Uo6JnYLNm"
      }
    },
    {
      "cell_type": "code",
      "source": [
        "model = model_fn(keras.layers.Dropout(0.3))\n",
        "model.summary()"
      ],
      "metadata": {
        "colab": {
          "base_uri": "https://localhost:8080/"
        },
        "id": "9KrOB0kxYH7i",
        "outputId": "27457977-2a18-401a-9d3d-f031b215ddd2"
      },
      "execution_count": 14,
      "outputs": [
        {
          "output_type": "stream",
          "name": "stdout",
          "text": [
            "Model: \"sequential_4\"\n",
            "_________________________________________________________________\n",
            " Layer (type)                Output Shape              Param #   \n",
            "=================================================================\n",
            " flatten_4 (Flatten)         (None, 784)               0         \n",
            "                                                                 \n",
            " dense_8 (Dense)             (None, 100)               78500     \n",
            "                                                                 \n",
            " dropout (Dropout)           (None, 100)               0         \n",
            "                                                                 \n",
            " dense_9 (Dense)             (None, 10)                1010      \n",
            "                                                                 \n",
            "=================================================================\n",
            "Total params: 79,510\n",
            "Trainable params: 79,510\n",
            "Non-trainable params: 0\n",
            "_________________________________________________________________\n"
          ]
        }
      ]
    },
    {
      "cell_type": "markdown",
      "source": [
        "훈련 후 예측시에는 드롭아웃을 적용하지 말아야 하는데 이를 자동으로 케라스에서 진행해 줍니다.  \n",
        "훈련 손실과 검증 손실의 그래프를 비교하여 그려보겠습니다."
      ],
      "metadata": {
        "id": "Vnxr-vd2YwlR"
      }
    },
    {
      "cell_type": "code",
      "source": [
        "model.compile(optimizer='adam', loss='sparse_categorical_crossentropy', metrics='accuracy')\n",
        "history = model.fit(train_scaled, train_target, epochs=20, verbose=0, validation_data=(val_scaled, val_target))\n",
        "plt.plot(history.history['loss'])\n",
        "plt.plot(history.history['val_loss'])\n",
        "plt.xlabel('epoch')\n",
        "plt.ylabel('loss')\n",
        "plt.legend(['train', 'val'])\n",
        "plt.show()"
      ],
      "metadata": {
        "colab": {
          "base_uri": "https://localhost:8080/",
          "height": 279
        },
        "id": "1NiDCAGxYsqd",
        "outputId": "51e6982f-eea2-4802-b2ca-e24939e231f7"
      },
      "execution_count": 15,
      "outputs": [
        {
          "output_type": "display_data",
          "data": {
            "image/png": "[encoded data removed]",
            "text/plain": [
              "<Figure size 432x288 with 1 Axes>"
            ]
          },
          "metadata": {
            "needs_background": "light"
          }
        }
      ]
    },
    {
      "cell_type": "markdown",
      "source": [
        "과대적합이 확실히 줄었습니다.  \n",
        "열번째 에포크 정도에서 검증손실이 더이상 감소하지 않고 유지되며 그 이후 과대적합되는듯하니 에포크 횟수가 10이 적당해 보입니다.  \n",
        "10회 실행하고 이를 저장해보겠습니다.\n",
        "\n"
      ],
      "metadata": {
        "id": "vtvhGjnEZDrH"
      }
    },
    {
      "cell_type": "markdown",
      "source": [
        "# 모델 저장과 복원"
      ],
      "metadata": {
        "id": "Y07WtwPpZiPL"
      }
    },
    {
      "cell_type": "markdown",
      "source": [
        "우선 에포크 횟수를 10으로 다시 실행해보겠습니다."
      ],
      "metadata": {
        "id": "OrmKstpyZpAz"
      }
    },
    {
      "cell_type": "code",
      "source": [
        "model = model_fn(keras.layers.Dropout(0.3))\n",
        "model.compile(optimizer='adam', loss='sparse_categorical_crossentropy', metrics='accuracy')\n",
        "history = model.fit(train_scaled, train_target, epochs=10, verbose=0, validation_data=(val_scaled, val_target))"
      ],
      "metadata": {
        "id": "H9kBnVXrY9Oq"
      },
      "execution_count": 16,
      "outputs": []
    },
    {
      "cell_type": "markdown",
      "source": [
        "케라스 모델은 훈련된 모델의 파라미터를 저장하는 간편한 save_weight() 메서드를 제공합니다. "
      ],
      "metadata": {
        "id": "0fI-_Bo9Ztep"
      }
    },
    {
      "cell_type": "code",
      "source": [
        "model.save_weights('model-weights.h5')"
      ],
      "metadata": {
        "id": "nQ6mvtJSZlE4"
      },
      "execution_count": 17,
      "outputs": []
    },
    {
      "cell_type": "markdown",
      "source": [
        "또한 모델 구조와 모델 파라미터를 함께 저장하는 save() 메서드도 제공합니다."
      ],
      "metadata": {
        "id": "H2UeivEkZ4eB"
      }
    },
    {
      "cell_type": "code",
      "source": [
        "model.save('model-whole.h5')"
      ],
      "metadata": {
        "id": "5khFqu8QZ3Yl"
      },
      "execution_count": 18,
      "outputs": []
    },
    {
      "cell_type": "markdown",
      "source": [
        "왼쪽 폴더를 확인하면 파일이 저장되어 있습니다."
      ],
      "metadata": {
        "id": "o45p7hvZaJUE"
      }
    },
    {
      "cell_type": "markdown",
      "source": [
        "먼저 load_weights로 불러와 보겠습니다.  \n",
        "이 때 불러오는 모델과 정확힌 같은 구조를 가지고 있어야 오류가 나지 않기 때문에  \n",
        "먼저 모델을 동일하게 만들어 준 후 불러 옵니다."
      ],
      "metadata": {
        "id": "MTlfNivYbSwI"
      }
    },
    {
      "cell_type": "code",
      "source": [
        "model = model_fn(keras.layers.Dropout(0.3))\n",
        "model.load_weights('model-weights.h5')"
      ],
      "metadata": {
        "id": "RebGn6GcaGwS"
      },
      "execution_count": 21,
      "outputs": []
    },
    {
      "cell_type": "code",
      "source": [
        "import numpy as np\n",
        "val_labels = np.argmax(model.predict(val_scaled), axis=-1)\n",
        "print(np.mean(val_labels == val_target))"
      ],
      "metadata": {
        "colab": {
          "base_uri": "https://localhost:8080/"
        },
        "id": "OdD1DB6qbwbl",
        "outputId": "43022f69-461b-4a66-af6e-d25140c965f0"
      },
      "execution_count": 23,
      "outputs": [
        {
          "output_type": "stream",
          "name": "stdout",
          "text": [
            "0.879\n"
          ]
        }
      ]
    },
    {
      "cell_type": "markdown",
      "source": [
        "load로 불러와 보겠습니다.  \n",
        "이경우는 바로 evaluate를 사용할 수 있습니다."
      ],
      "metadata": {
        "id": "F4OeSbB4b2A8"
      }
    },
    {
      "cell_type": "code",
      "source": [
        "model = keras.models.load_model('model-whole.h5')\n",
        "model.evaluate(val_scaled, val_target)"
      ],
      "metadata": {
        "colab": {
          "base_uri": "https://localhost:8080/"
        },
        "id": "DJSu9GoLb1JV",
        "outputId": "75a692c4-65ab-447a-a022-ae72381fbce2"
      },
      "execution_count": 24,
      "outputs": [
        {
          "output_type": "stream",
          "name": "stdout",
          "text": [
            "375/375 [==============================] - 1s 2ms/step - loss: 0.3368 - accuracy: 0.8790\n"
          ]
        },
        {
          "output_type": "execute_result",
          "data": {
            "text/plain": [
              "[0.33679133653640747, 0.8790000081062317]"
            ]
          },
          "metadata": {},
          "execution_count": 24
        }
      ]
    },
    {
      "cell_type": "markdown",
      "source": [
        "# 콜백\n",
        "콜백은 훈련 과정 중간에 어떤 작업을 수행할 수 있게 하는 객체입니다.  \n",
        "keras.callbacks 패키지 아래에 클래스들로 존재합니다.  \n",
        "ModelCheckpoint 콜백은 기보넉으로 에포크마다 저장합니다.  \n",
        "save_best_only =True 매개변수를 지정하면 가장 좋은 모델만 저장할 수 있습니다."
      ],
      "metadata": {
        "id": "p3BmdoAGcEbc"
      }
    },
    {
      "cell_type": "code",
      "source": [
        "model = model_fn(keras.layers.Dropout(0.3))\n",
        "model.compile(optimizer='adam', loss='sparse_categorical_crossentropy', metrics='accuracy')\n",
        "checkpoint_cb = keras.callbacks.ModelCheckpoint('best-model.h5', save_best_only=True)\n",
        "model.fit(train_scaled, train_target, epochs=20, verbose=0,validation_data=(val_scaled, val_target),callbacks=[checkpoint_cb])"
      ],
      "metadata": {
        "colab": {
          "base_uri": "https://localhost:8080/"
        },
        "id": "tv7gv4cgb-8s",
        "outputId": "b79ffd63-a947-4943-e3c5-3e8097a45311"
      },
      "execution_count": 25,
      "outputs": [
        {
          "output_type": "execute_result",
          "data": {
            "text/plain": [
              "<keras.callbacks.History at 0x7fa13e89e810>"
            ]
          },
          "metadata": {},
          "execution_count": 25
        }
      ]
    },
    {
      "cell_type": "markdown",
      "source": [
        "이렇게 만들어진 베스트 모델을 읽어서 다시 예측을 수행해보도록 하겠습니다."
      ],
      "metadata": {
        "id": "vY4eX3tFcoH0"
      }
    },
    {
      "cell_type": "code",
      "source": [
        "model = keras.models.load_model('best-model.h5')\n",
        "model.evaluate(val_scaled, val_target)"
      ],
      "metadata": {
        "colab": {
          "base_uri": "https://localhost:8080/"
        },
        "id": "PayEFb0Ocrxh",
        "outputId": "ac319c60-145f-4319-a97b-2e77ec7105ec"
      },
      "execution_count": 26,
      "outputs": [
        {
          "output_type": "stream",
          "name": "stdout",
          "text": [
            "375/375 [==============================] - 1s 2ms/step - loss: 0.3154 - accuracy: 0.8857\n"
          ]
        },
        {
          "output_type": "execute_result",
          "data": {
            "text/plain": [
              "[0.31543755531311035, 0.8856666684150696]"
            ]
          },
          "metadata": {},
          "execution_count": 26
        }
      ]
    },
    {
      "cell_type": "markdown",
      "source": [
        "편하게 최적값을 찾을 수 있게 됩니다.  \n",
        "하지만 20번의 에포크를 모두 수행하기 보다 과대적합이 시작되기 전에 훈련을 중지시키는 것이 좋을 것 같습니다.  \n",
        "이를 조기 종료 라고 부릅니다.  \n",
        "케라스에서는 EarlyStopping 콜백을 제공합니다.  \n",
        "이 콜백의 patience 매개 변수는 검증 점수가 향상되지 않더라도 참을 에포크 횟수로 저장합니다.  \n",
        "2로 지정하고 진행해 보겠습니다."
      ],
      "metadata": {
        "id": "3uwMIt2Dcvx1"
      }
    },
    {
      "cell_type": "code",
      "source": [
        "model = model_fn(keras.layers.Dropout(0.3))\n",
        "model.compile(optimizer='adam', loss='sparse_categorical_crossentropy', metrics='accuracy')\n",
        "checkpoint_cb = keras.callbacks.ModelCheckpoint('best-model.h5', save_best_only=True)\n",
        "early_stopping_cb = keras.callbacks.EarlyStopping(patience=2,restore_best_weights=True)\n",
        "history = model.fit(train_scaled, train_target, epochs=20, verbose=0,validation_data=(val_scaled, val_target),callbacks=[checkpoint_cb, early_stopping_cb])"
      ],
      "metadata": {
        "id": "i5WqJFJmctdl"
      },
      "execution_count": 27,
      "outputs": []
    },
    {
      "cell_type": "markdown",
      "source": [
        "언제 멈췄는지 확인해보겠습니다."
      ],
      "metadata": {
        "id": "iB4X6bQmdRPA"
      }
    },
    {
      "cell_type": "code",
      "source": [
        "print(early_stopping_cb.stopped_epoch)"
      ],
      "metadata": {
        "colab": {
          "base_uri": "https://localhost:8080/"
        },
        "id": "FxoAoplddOp5",
        "outputId": "1dc3a0d0-2ff4-43c7-f9ff-cadb1bdd2c8d"
      },
      "execution_count": 28,
      "outputs": [
        {
          "output_type": "stream",
          "name": "stdout",
          "text": [
            "7\n"
          ]
        }
      ]
    },
    {
      "cell_type": "markdown",
      "source": [
        "patience를 2로 지정했기 때문에 최상의 모델의 위치를 생각할 수 있습니다."
      ],
      "metadata": {
        "id": "xrinTyzadZ-s"
      }
    },
    {
      "cell_type": "code",
      "source": [
        "plt.plot(history.history['loss'])\n",
        "plt.plot(history.history['val_loss'])\n",
        "plt.xlabel('epoch')\n",
        "plt.ylabel('loss')\n",
        "plt.legend(['train', 'val'])\n",
        "plt.show()"
      ],
      "metadata": {
        "colab": {
          "base_uri": "https://localhost:8080/",
          "height": 280
        },
        "id": "3ZVDoNJVdUQ9",
        "outputId": "b57f0bef-5ee1-42e2-9cd3-198c4a225691"
      },
      "execution_count": 29,
      "outputs": [
        {
          "output_type": "display_data",
          "data": {
            "image/png": "[encoded data removed]",
            "text/plain": [
              "<Figure size 432x288 with 1 Axes>"
            ]
          },
          "metadata": {
            "needs_background": "light"
          }
        }
      ]
    },
    {
      "cell_type": "code",
      "source": [
        ""
      ],
      "metadata": {
        "id": "GHb3lGgIdsNr"
      },
      "execution_count": null,
      "outputs": []
    }
  ]
}